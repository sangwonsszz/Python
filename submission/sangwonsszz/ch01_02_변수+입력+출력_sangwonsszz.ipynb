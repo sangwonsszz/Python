{
  "nbformat": 4,
  "nbformat_minor": 0,
  "metadata": {
    "colab": {
      "provenance": [],
      "toc_visible": true,
      "include_colab_link": true
    },
    "kernelspec": {
      "name": "python3",
      "display_name": "Python 3"
    },
    "language_info": {
      "name": "python"
    }
  },
  "cells": [
    {
      "cell_type": "markdown",
      "metadata": {
        "id": "view-in-github",
        "colab_type": "text"
      },
      "source": [
        "<a href=\"https://colab.research.google.com/github/sangwonsszz/Python/blob/main/submission/sangwonsszz/ch01_02_%EB%B3%80%EC%88%98%2B%EC%9E%85%EB%A0%A5%2B%EC%B6%9C%EB%A0%A5_sangwonsszz.ipynb\" target=\"_parent\"><img src=\"https://colab.research.google.com/assets/colab-badge.svg\" alt=\"Open In Colab\"/></a>"
      ]
    },
    {
      "cell_type": "markdown",
      "source": [
        "# 변수와 입력"
      ],
      "metadata": {
        "id": "-TyK4mGwU4HG"
      }
    },
    {
      "cell_type": "markdown",
      "source": [
        "## 변수 만들기"
      ],
      "metadata": {
        "id": "dRF9r72fU6KD"
      }
    },
    {
      "cell_type": "code",
      "source": [
        "x = 10 # x라는 변수에 10이라는 값을 할당 "
      ],
      "metadata": {
        "id": "yYeRYCbxVDnC"
      },
      "execution_count": null,
      "outputs": []
    },
    {
      "cell_type": "markdown",
      "source": [
        "* `x = 10`이라고 입력하면 10이 들어있는 변수 x가 만들어짐\n",
        "* 즉, 변수이름 = 값 형식. 이렇게 하면 변수가 생성되는 동시에 값이 할당(저장)\n",
        "\n",
        "* 변수 이름은 원하는 대로 지으면 되지만 다음과 같은 규칙을 지켜야 함\n",
        "\n",
        "> 영문 문자와 숫자를 사용할 수 있음<br>\n",
        "> 대소문자를 구분함<br>\n",
        "> 문자부터 시작해야 하며 숫자부터 시작하면 안 됨<br>\n",
        "> _(밑줄 문자)로 시작할 수 있음<br>\n",
        "> 특수 문자(+, -, *, /, $, @, &, % 등)는 사용할 수 없음<br>\n",
        "> 파이썬의 키워드(if, for, while, and, or 등)는 사용할 수 없음"
      ],
      "metadata": {
        "id": "GWYw1A85VLOw"
      }
    },
    {
      "cell_type": "code",
      "source": [
        "x # 10"
      ],
      "metadata": {
        "colab": {
          "base_uri": "https://localhost:8080/"
        },
        "id": "_cxZaYddVIeV",
        "outputId": "bd0b146c-3053-453a-d169-f1c73e8830cc"
      },
      "execution_count": null,
      "outputs": [
        {
          "output_type": "execute_result",
          "data": {
            "text/plain": [
              "10"
            ]
          },
          "metadata": {},
          "execution_count": 4
        }
      ]
    },
    {
      "cell_type": "markdown",
      "source": [
        "* 변수에는 숫자뿐만 아니라 문자열도 넣을 수 있음"
      ],
      "metadata": {
        "id": "Hq9mWaaBW_oj"
      }
    },
    {
      "cell_type": "code",
      "source": [
        "y = 'Hello, world!'\n",
        "y"
      ],
      "metadata": {
        "colab": {
          "base_uri": "https://localhost:8080/",
          "height": 36
        },
        "id": "6RWuYjQhW92u",
        "outputId": "740ec324-87bc-4210-e9ec-ca2b3f6288e0"
      },
      "execution_count": null,
      "outputs": [
        {
          "output_type": "execute_result",
          "data": {
            "text/plain": [
              "'Hello, world!'"
            ],
            "application/vnd.google.colaboratory.intrinsic+json": {
              "type": "string"
            }
          },
          "metadata": {},
          "execution_count": 5
        }
      ]
    },
    {
      "cell_type": "markdown",
      "source": [
        "### 변수의 자료형 알아내기\n",
        "* type(변수)"
      ],
      "metadata": {
        "id": "_zA3EHWykqlB"
      }
    },
    {
      "cell_type": "code",
      "source": [
        "type(x), type(y)"
      ],
      "metadata": {
        "colab": {
          "base_uri": "https://localhost:8080/"
        },
        "id": "CzrP8mEPkv8x",
        "outputId": "1239162d-6163-4a6b-bf32-0c478333ce37"
      },
      "execution_count": null,
      "outputs": [
        {
          "output_type": "execute_result",
          "data": {
            "text/plain": [
              "(int, str)"
            ]
          },
          "metadata": {},
          "execution_count": 6
        }
      ]
    },
    {
      "cell_type": "markdown",
      "source": [
        "* x에는 정수 10이 들어있으므로 int, y에는 문자열 Hello, world!가 들어있으므로 str이라고 나옴\n",
        "* int는 정수(**int**eger), str은 문자열(**str**ing)에서 따옴\n",
        "* 즉, 변수의 자료형은 변수에 들어가는 값에 따라 달라짐"
      ],
      "metadata": {
        "id": "y5q9WlmNk1jN"
      }
    },
    {
      "cell_type": "markdown",
      "source": [
        "\n",
        "\n",
        "```\n",
        "# 코드로 형식 지정됨\n",
        "```\n",
        "\n",
        "### 할당 연산자 `=` (대입연산자)\n",
        "* 수학에서는 =(등호) 기호는 양 변이 같다는 뜻\n",
        "* 하지만 프로그래밍 언어에서 =는 변수에 값을 할당(assignment)한다는 의미\n",
        "* 수학의 등호와 같은 역할을 하는 연산자는 `==`(동등연산자)"
      ],
      "metadata": {
        "id": "bQo_ClJ8lArO"
      }
    },
    {
      "cell_type": "markdown",
      "source": [
        "### 변수 여러 개를 한 번에 만들기"
      ],
      "metadata": {
        "id": "tt3QvFPFlLPh"
      }
    },
    {
      "cell_type": "code",
      "source": [
        "x, y, z = 10, 20, 30\n",
        "x, y, z\n",
        "* (ctrl + m) + a : above -> 현재 셀 기준 위에 코드 셀 생성\n",
        "* (ctrl + m) + b : below -> 현재 셀 기준 아래에 코드 셀 생성\n",
        "* (ctrl + m) + t : text -> 현재 셀 기준 아래에 텍스트 셀 생성\n",
        "* (ctrl + m) + m : 코드 셀 -> 텍스트 셀\n",
        "* (ctrl + m) + y : 텍스트 셀 -> 코드 셀"
      ],
      "metadata": {
        "colab": {
          "base_uri": "https://localhost:8080/"
        },
        "id": "2aRJOreCkyhm",
        "outputId": "55c5b252-f25d-4be4-b259-af6093d60d32"
      },
      "execution_count": null,
      "outputs": [
        {
          "output_type": "execute_result",
          "data": {
            "text/plain": [
              "(10, 20, 30)"
            ]
          },
          "metadata": {},
          "execution_count": 7
        }
      ]
    },
    {
      "cell_type": "code",
      "source": [],
      "metadata": {
        "id": "RUyEtaIqnGe0"
      },
      "execution_count": null,
      "outputs": []
    },
    {
      "cell_type": "markdown",
      "source": [
        "* 변수이름1, 변수이름2, 변수이름3 = 값1, 값2, 값3 형식으로 변수를 ,(콤마)로 구분한 뒤 각 변수에 할당될 값을 지정해주면 됨\n",
        "* 변수와 값의 개수는 동일하게 맞춰주어야 하며 나열된 순서대로 값이 할당\n",
        "* 만약 변수와 값의 개수가 맞지 않으면 에러가 발생"
      ],
      "metadata": {
        "id": "0Q4gphdAlSiW"
      }
    },
    {
      "cell_type": "code",
      "source": [
        "x, y, z = 10, 20"
      ],
      "metadata": {
        "colab": {
          "base_uri": "https://localhost:8080/",
          "height": 205
        },
        "id": "VEvT2e-hlQUM",
        "outputId": "2a5f98af-874d-4ccc-a5e6-5fbde8ebec5e"
      },
      "execution_count": null,
      "outputs": [
        {
          "output_type": "error",
          "ename": "ValueError",
          "evalue": "ignored",
          "traceback": [
            "\u001b[0;31m---------------------------------------------------------------------------\u001b[0m",
            "\u001b[0;31mValueError\u001b[0m                                Traceback (most recent call last)",
            "\u001b[0;32m<ipython-input-8-34d511726749>\u001b[0m in \u001b[0;36m<module>\u001b[0;34m\u001b[0m\n\u001b[0;32m----> 1\u001b[0;31m \u001b[0mx\u001b[0m\u001b[0;34m,\u001b[0m \u001b[0my\u001b[0m\u001b[0;34m,\u001b[0m \u001b[0mz\u001b[0m \u001b[0;34m=\u001b[0m \u001b[0;36m10\u001b[0m\u001b[0;34m,\u001b[0m \u001b[0;36m20\u001b[0m\u001b[0;34m\u001b[0m\u001b[0;34m\u001b[0m\u001b[0m\n\u001b[0m",
            "\u001b[0;31mValueError\u001b[0m: not enough values to unpack (expected 3, got 2)"
          ]
        }
      ]
    },
    {
      "cell_type": "code",
      "source": [
        "# 변수 여러 개를 만들 때 값이 모두 같아도 된다면?\n",
        "x = y = z = 10\n",
        "x, y, z"
      ],
      "metadata": {
        "colab": {
          "base_uri": "https://localhost:8080/"
        },
        "id": "Btu-KFVilZNR",
        "outputId": "507f510b-45d3-483a-d94f-2e80fc5c7982"
      },
      "execution_count": null,
      "outputs": [
        {
          "output_type": "execute_result",
          "data": {
            "text/plain": [
              "(10, 10, 10)"
            ]
          },
          "metadata": {},
          "execution_count": 9
        }
      ]
    },
    {
      "cell_type": "code",
      "source": [
        "# 두 변수의 값을 바꾸려면?\n",
        "x, y = 10, 20\n",
        "x, y = y, x\n",
        "x, y"
      ],
      "metadata": {
        "colab": {
          "base_uri": "https://localhost:8080/"
        },
        "id": "Y1gRZDPHliNX",
        "outputId": "c9fade77-5b48-42e6-9da0-80bbe0e25d9a"
      },
      "execution_count": null,
      "outputs": [
        {
          "output_type": "execute_result",
          "data": {
            "text/plain": [
              "(20, 10)"
            ]
          },
          "metadata": {},
          "execution_count": 10
        }
      ]
    },
    {
      "cell_type": "code",
      "source": [
        "# 빈 변수 만들기\n",
        "x = None\n",
        "print(x)"
      ],
      "metadata": {
        "colab": {
          "base_uri": "https://localhost:8080/"
        },
        "id": "bEjSHfR4ln8i",
        "outputId": "fe6afc70-88ed-4321-fc3f-3a1782ba46c3"
      },
      "execution_count": null,
      "outputs": [
        {
          "output_type": "stream",
          "name": "stdout",
          "text": [
            "None\n"
          ]
        }
      ]
    },
    {
      "cell_type": "markdown",
      "source": [
        "* 파이썬에서 None은 아무것도 없는 상태를 나타내는 자료형\n",
        "* 보통 다른 언어에서는 널(null)이라고 표현"
      ],
      "metadata": {
        "id": "sXCiAobBlyO7"
      }
    },
    {
      "cell_type": "markdown",
      "source": [
        "## 변수로 계산하기"
      ],
      "metadata": {
        "id": "V_-nQLxHl_3A"
      }
    },
    {
      "cell_type": "code",
      "source": [
        "a = 10\n",
        "b = 20\n",
        "c = a + b\n",
        "c"
      ],
      "metadata": {
        "colab": {
          "base_uri": "https://localhost:8080/"
        },
        "id": "pODgsKRVltZ7",
        "outputId": "a5720e68-dfbd-433e-e729-5b05d0c3b64c"
      },
      "execution_count": null,
      "outputs": [
        {
          "output_type": "execute_result",
          "data": {
            "text/plain": [
              "30"
            ]
          },
          "metadata": {},
          "execution_count": 12
        }
      ]
    },
    {
      "cell_type": "markdown",
      "source": [
        "* 변수 a, b에 숫자를 할당한 뒤에 a와 b의 값을 더해서 변수 c에 할당\n",
        "* 변수는 변수끼리 계산할 수 있고, 계산 결과를 다른 변수에 할당할 수 있음\n"
      ],
      "metadata": {
        "id": "RHfzibPdmWgX"
      }
    },
    {
      "cell_type": "markdown",
      "source": [
        "### 산술 연산 후 할당 연산자 사용"
      ],
      "metadata": {
        "id": "5RR9G04LmakP"
      }
    },
    {
      "cell_type": "code",
      "source": [
        "a = 10\n",
        "a + 20, a"
      ],
      "metadata": {
        "colab": {
          "base_uri": "https://localhost:8080/"
        },
        "id": "XzM5B0dYmU-j",
        "outputId": "ab9c23f5-a5b9-40a7-b2ea-23e798f78481"
      },
      "execution_count": null,
      "outputs": [
        {
          "output_type": "execute_result",
          "data": {
            "text/plain": [
              "(30, 10)"
            ]
          },
          "metadata": {},
          "execution_count": 14
        }
      ]
    },
    {
      "cell_type": "markdown",
      "source": [
        "* 변수 한 개에서 값의 변화를 계속 유지하려면 계산 결과를 다시 변수에 저장해야 함"
      ],
      "metadata": {
        "id": "5ai3Cdrymneh"
      }
    },
    {
      "cell_type": "code",
      "source": [
        "a = 10\n",
        "a = a + 20    # a와 20을 더한 후 결과를 다시 a에 저장\n",
        "a"
      ],
      "metadata": {
        "colab": {
          "base_uri": "https://localhost:8080/"
        },
        "id": "i9RI-mdxmhld",
        "outputId": "43ca4d16-ea47-4980-ac14-52fa93623338"
      },
      "execution_count": null,
      "outputs": [
        {
          "output_type": "execute_result",
          "data": {
            "text/plain": [
              "30"
            ]
          },
          "metadata": {},
          "execution_count": 15
        }
      ]
    },
    {
      "cell_type": "markdown",
      "source": [
        "* 파이썬에서는 변수를 두 번 입력하지 않도록 산술 연산 후 할당 연산자를 제공"
      ],
      "metadata": {
        "id": "9fP1VdJkmsWK"
      }
    },
    {
      "cell_type": "code",
      "source": [
        "a = 10\n",
        "a += 20    # a와 20을 더한 후 결과를 다시 a에 저장\n",
        "a"
      ],
      "metadata": {
        "colab": {
          "base_uri": "https://localhost:8080/"
        },
        "id": "tFGI5d1Mmp5H",
        "outputId": "c8b4d2e5-b442-48a2-9961-99f47a1bd833"
      },
      "execution_count": null,
      "outputs": [
        {
          "output_type": "execute_result",
          "data": {
            "text/plain": [
              "30"
            ]
          },
          "metadata": {},
          "execution_count": 16
        }
      ]
    },
    {
      "cell_type": "markdown",
      "source": [
        "* a에는 10이 들어있고 a += 20을 수행하면 a에는 10과 20을 더한 결과인 30이 들어감\n",
        "* +=처럼 산술 연산자 앞에 =(할당 연산자)를 붙이면 연산 결과를 변수에 저장(+ =처럼 두 연산자를 공백으로 띄우면 안 됩니다)\n",
        "* 즉, a += 20은 a = a + 20을 축약한 형태\n",
        "---\n",
        "* 덧셈(+=) 외에도 뺄셈(-=), 곱셈(\\*=), 나눗셈(/=, //=), 나머지(%=)도 같은 방식\n",
        "* 똑같이 연산(-, *, /, //) 후 할당(=) 한다는 뜻입\n",
        "---\n",
        "* 만들지 않은 변수 d에 10을 더한 후 다시 할당하면 에러가 발생"
      ],
      "metadata": {
        "id": "GT_ivIJbm0BI"
      }
    },
    {
      "cell_type": "code",
      "source": [
        "d += 10    # d는 만들지 않은 변수 "
      ],
      "metadata": {
        "colab": {
          "base_uri": "https://localhost:8080/",
          "height": 205
        },
        "id": "LcMoPHLQmwoM",
        "outputId": "f94b66de-83d4-4c86-b3f8-42bcf59453fe"
      },
      "execution_count": null,
      "outputs": [
        {
          "output_type": "error",
          "ename": "NameError",
          "evalue": "ignored",
          "traceback": [
            "\u001b[0;31m---------------------------------------------------------------------------\u001b[0m",
            "\u001b[0;31mNameError\u001b[0m                                 Traceback (most recent call last)",
            "\u001b[0;32m<ipython-input-17-f7ffee671502>\u001b[0m in \u001b[0;36m<module>\u001b[0;34m\u001b[0m\n\u001b[0;32m----> 1\u001b[0;31m \u001b[0md\u001b[0m \u001b[0;34m+=\u001b[0m \u001b[0;36m10\u001b[0m    \u001b[0;31m# d는 만들지 않은 변수\u001b[0m\u001b[0;34m\u001b[0m\u001b[0;34m\u001b[0m\u001b[0m\n\u001b[0m",
            "\u001b[0;31mNameError\u001b[0m: name 'd' is not defined"
          ]
        }
      ]
    },
    {
      "cell_type": "markdown",
      "source": [
        "### 부호 붙이기\n",
        "* 값이나 변수 앞에 양수, 음수 부호를 붙이면 됨"
      ],
      "metadata": {
        "id": "EZebG6OPnJW6"
      }
    },
    {
      "cell_type": "code",
      "source": [
        "x = -10\n",
        "+x, -x"
      ],
      "metadata": {
        "colab": {
          "base_uri": "https://localhost:8080/"
        },
        "id": "FQDaj2wgnGVK",
        "outputId": "7b3e412f-a78d-4a9c-9cc7-9ae0b96babcb"
      },
      "execution_count": null,
      "outputs": [
        {
          "output_type": "execute_result",
          "data": {
            "text/plain": [
              "(-10, 10)"
            ]
          },
          "metadata": {},
          "execution_count": 18
        }
      ]
    },
    {
      "cell_type": "markdown",
      "source": [
        "## 입력 값을 변수에 저장하기"
      ],
      "metadata": {
        "id": "OfCoFTzDnunT"
      }
    },
    {
      "cell_type": "markdown",
      "source": [
        "### input 함수 사용하기"
      ],
      "metadata": {
        "id": "HLzt_2zQ1D5B"
      }
    },
    {
      "cell_type": "code",
      "source": [
        "input()"
      ],
      "metadata": {
        "colab": {
          "base_uri": "https://localhost:8080/",
          "height": 54
        },
        "id": "C9f2y_jvnRtH",
        "outputId": "57ce6ca1-28be-49c2-f019-36ce67a6b8d4"
      },
      "execution_count": null,
      "outputs": [
        {
          "name": "stdout",
          "output_type": "stream",
          "text": [
            "Hello, world!\n"
          ]
        },
        {
          "output_type": "execute_result",
          "data": {
            "text/plain": [
              "'Hello, world!'"
            ],
            "application/vnd.google.colaboratory.intrinsic+json": {
              "type": "string"
            }
          },
          "metadata": {},
          "execution_count": 19
        }
      ]
    },
    {
      "cell_type": "markdown",
      "source": [
        "* 입력한 문자열이 그대로 출력\n",
        "* 즉, `input` 함수는 사용자가 입력한 값을 가져오는 함수"
      ],
      "metadata": {
        "id": "rw3a6RdF1LQf"
      }
    },
    {
      "cell_type": "markdown",
      "source": [
        "### input 함수의 결과를 변수에 할당\n",
        "* `변수 = input()`"
      ],
      "metadata": {
        "id": "jkadJGfx1Psm"
      }
    },
    {
      "cell_type": "code",
      "source": [
        "x = input()\n",
        "x"
      ],
      "metadata": {
        "colab": {
          "base_uri": "https://localhost:8080/",
          "height": 54
        },
        "id": "jrtrBjdP1Xi9",
        "outputId": "de0f9598-c5fd-4c47-ca59-bd4d9bf737be"
      },
      "execution_count": null,
      "outputs": [
        {
          "name": "stdout",
          "output_type": "stream",
          "text": [
            "hello world\n"
          ]
        },
        {
          "output_type": "execute_result",
          "data": {
            "text/plain": [
              "'hello world'"
            ],
            "application/vnd.google.colaboratory.intrinsic+json": {
              "type": "string"
            }
          },
          "metadata": {},
          "execution_count": 20
        }
      ]
    },
    {
      "cell_type": "code",
      "source": [
        "x = input('문자열을 입력하세요: ')\n",
        "x"
      ],
      "metadata": {
        "colab": {
          "base_uri": "https://localhost:8080/",
          "height": 54
        },
        "id": "iU-V41FQ1cAE",
        "outputId": "d14d7ae1-d558-478f-99c9-5febb79bb8c2"
      },
      "execution_count": null,
      "outputs": [
        {
          "name": "stdout",
          "output_type": "stream",
          "text": [
            "문자열을 입력하세요: hello world\n"
          ]
        },
        {
          "output_type": "execute_result",
          "data": {
            "text/plain": [
              "'hello world'"
            ],
            "application/vnd.google.colaboratory.intrinsic+json": {
              "type": "string"
            }
          },
          "metadata": {},
          "execution_count": 21
        }
      ]
    },
    {
      "cell_type": "markdown",
      "source": [
        "* 실행을 해보면 '문자열을 입력하세요: '처럼 안내 문구가 먼저 나옴\n",
        "* 여기에 문자열을 입력한 뒤 엔터 키를 누르면 입력한 그대로 출력\n",
        "* 즉, 이 문자열은 사용자에게 입력받는 값의 용도를 미리 알려줄 때 사용\n",
        "* 다른 말로는 프롬프트(prompt)라고도 부름"
      ],
      "metadata": {
        "id": "psIb8Bua1fb0"
      }
    },
    {
      "cell_type": "markdown",
      "source": [
        "### 두 숫자의 합 구하기"
      ],
      "metadata": {
        "id": "b0pNlYLv1nL9"
      }
    },
    {
      "cell_type": "code",
      "source": [
        "a = input('첫 번째 숫자를 입력하세요: ')\n",
        "b = input('두 번째 숫자를 입력하세요: ')\n",
        " # input은 입력받은 값을 문자열로 인식\n",
        "print(a + b)"
      ],
      "metadata": {
        "id": "jnCF_0RY1osn"
      },
      "execution_count": null,
      "outputs": []
    },
    {
      "cell_type": "code",
      "source": [
        "type(a), type(b)"
      ],
      "metadata": {
        "colab": {
          "base_uri": "https://localhost:8080/"
        },
        "id": "SIts5emz1v8D",
        "outputId": "4ab45ade-4d47-4dc9-986e-5b8f89789816"
      },
      "execution_count": null,
      "outputs": [
        {
          "output_type": "execute_result",
          "data": {
            "text/plain": [
              "(str, str)"
            ]
          },
          "metadata": {},
          "execution_count": 23
        }
      ]
    },
    {
      "cell_type": "code",
      "source": [
        "a = int(input('첫 번째 숫자를 입력하세요: '))    # int를 사용하여 입력 값을 정수로 변환\n",
        "b = int(input('두 번째 숫자를 입력하세요: '))    # int를 사용하여 입력 값을 정수로 변환\n",
        " \n",
        "print(a + b)"
      ],
      "metadata": {
        "colab": {
          "base_uri": "https://localhost:8080/"
        },
        "id": "o-gzrZER1u_q",
        "outputId": "6e71df54-4152-4b83-9729-dffc01788f1c"
      },
      "execution_count": null,
      "outputs": [
        {
          "output_type": "stream",
          "name": "stdout",
          "text": [
            "첫 번째 숫자를 입력하세요: 10\n",
            "두 번째 숫자를 입력하세요: 20\n",
            "30\n"
          ]
        }
      ]
    },
    {
      "cell_type": "markdown",
      "source": [
        "## 입력 값을 변수 두 개에 저장하기\n",
        "* input 한 번에 값을 여러 개 입력받으려면 input에서 split을 사용한 변수 여러 개에 저장(각 변수는 콤마로 구분)\n",
        "```\n",
        "변수1, 변수2 = input().split()\n",
        "변수1, 변수2 = input().split('기준문자열')\n",
        "변수1, 변수2 = input('문자열').split()\n",
        "변수1, 변수2 = input('문자열').split('기준문자열')\n",
        "```"
      ],
      "metadata": {
        "id": "sbRHGNVX12hs"
      }
    },
    {
      "cell_type": "code",
      "source": [
        "a, b = input('문자열 두 개를 입력하세요: ').split()    # 입력받은 값을 공백을 기준으로 분리\n",
        " \n",
        "print(a)\n",
        "print(b)"
      ],
      "metadata": {
        "colab": {
          "base_uri": "https://localhost:8080/"
        },
        "id": "qpQEFX6e12Sz",
        "outputId": "8a45f3c3-05c8-45c3-e07b-3c77180dbafd"
      },
      "execution_count": null,
      "outputs": [
        {
          "output_type": "stream",
          "name": "stdout",
          "text": [
            "문자열 두 개를 입력하세요: Hello Python\n",
            "Hello\n",
            "Python\n"
          ]
        }
      ]
    },
    {
      "cell_type": "markdown",
      "source": [
        "* input에 split을 사용하면 입력받은 값을 공백을 기준으로 분리하여 변수에 차례대로 저장(split은 분리하다, 나누다라는 뜻)\n",
        "* 문자열 'Hello Python'을 공백을 기준으로 분리하여 'Hello'는 첫 번째 변수 a에 'Python'은 두 번째 변수 b에 저장\n"
      ],
      "metadata": {
        "id": "d2sNEqGq2JJN"
      }
    },
    {
      "cell_type": "markdown",
      "source": [
        "### 두 숫자의 합 구하기"
      ],
      "metadata": {
        "id": "sSbwvy7m2Vdl"
      }
    },
    {
      "cell_type": "code",
      "source": [
        "a, b = input('숫자 두 개를 입력하세요: ').split()    # 입력받은 값을 공백을 기준으로 분리\n",
        " \n",
        "print(a + b)"
      ],
      "metadata": {
        "colab": {
          "base_uri": "https://localhost:8080/"
        },
        "id": "IILi444U2Uze",
        "outputId": "342425fb-f23e-4da9-8947-403ec54f16bc"
      },
      "execution_count": null,
      "outputs": [
        {
          "output_type": "stream",
          "name": "stdout",
          "text": [
            "숫자 두 개를 입력하세요: 10 20\n",
            "1020\n"
          ]
        }
      ]
    },
    {
      "cell_type": "code",
      "source": [
        "a, b = input('숫자 두 개를 입력하세요: ').split()    # 입력받은 값을 공백을 기준으로 분리\n",
        "# print(int(a) + int(b))\n",
        "a = int(a)    # 변수를 정수로 변환한 뒤 다시 저장\n",
        "b = int(b)    # 변수를 정수로 변환한 뒤 다시 저장\n",
        "print(a + b)"
      ],
      "metadata": {
        "colab": {
          "base_uri": "https://localhost:8080/"
        },
        "id": "SSPSdC2Z2cR6",
        "outputId": "6316abb2-3d86-478f-a943-ac4db61ed832"
      },
      "execution_count": null,
      "outputs": [
        {
          "output_type": "stream",
          "name": "stdout",
          "text": [
            "숫자 두 개를 입력하세요: 10 20\n",
            "30\n"
          ]
        }
      ]
    },
    {
      "cell_type": "markdown",
      "source": [
        "### map을 사용하여 정수로 변환\n",
        "* map에 int와 input().split()을 넣으면 split의 결과를 모두 int로 변환(실수로 변환할 때는 int 대신 float를 넣음)\n",
        "```\n",
        "변수1, 변수2 = map(int, input().split())\n",
        "변수1, 변수2 = map(int, input().split('기준문자열'))\n",
        "변수1, 변수2 = map(int, input('문자열').split())\n",
        "변수1, 변수2 = map(int, input('문자열').split('기준문자열'))\n",
        "```"
      ],
      "metadata": {
        "id": "Wr_08COV2nkH"
      }
    },
    {
      "cell_type": "code",
      "source": [
        "a, b = map(int, input('숫자 두 개를 입력하세요: ').split())\n",
        " \n",
        "print(a + b)"
      ],
      "metadata": {
        "colab": {
          "base_uri": "https://localhost:8080/"
        },
        "id": "VcNuHeiX2fp3",
        "outputId": "70a48512-e63d-4e54-8053-40d62ca8b04f"
      },
      "execution_count": null,
      "outputs": [
        {
          "output_type": "stream",
          "name": "stdout",
          "text": [
            "숫자 두 개를 입력하세요: 10 20\n",
            "30\n"
          ]
        }
      ]
    },
    {
      "cell_type": "markdown",
      "source": [
        "### 입력받은 값을 콤마를 기준으로 분리"
      ],
      "metadata": {
        "id": "AWf7eKUE23ne"
      }
    },
    {
      "cell_type": "code",
      "source": [
        "a, b = map(int, input('숫자 두 개를 입력하세요: ').split(',')) # 입력받은 값을 콤마를 기준으로 분리\n",
        " \n",
        "print(a + b)"
      ],
      "metadata": {
        "colab": {
          "base_uri": "https://localhost:8080/"
        },
        "id": "L-_cv6D02zg6",
        "outputId": "a78f9deb-061a-44d3-cdcc-b7d4c51f2f63"
      },
      "execution_count": null,
      "outputs": [
        {
          "output_type": "stream",
          "name": "stdout",
          "text": [
            "숫자 두 개를 입력하세요: 10,20\n",
            "30\n"
          ]
        }
      ]
    },
    {
      "cell_type": "markdown",
      "source": [
        "* split(',')과 같이 분리할 기준 문자열을 콤마로 지정하였으므로 '10,20'에서 10은 a, 20은 b에 저장"
      ],
      "metadata": {
        "id": "BZG_61-E28-0"
      }
    },
    {
      "cell_type": "markdown",
      "source": [
        "# 출력"
      ],
      "metadata": {
        "id": "vee7JlxL3GQg"
      }
    },
    {
      "cell_type": "markdown",
      "source": [
        "## 값을 여러 개 출력하기\n",
        "* `print`에는 변수나 값 여러 개를 ,(콤마)로 구분하여 넣을 수 있음\n",
        "```\n",
        "print(값1, 값2, 값3)\n",
        "print(변수1, 변수2, 변수3)\n",
        "```"
      ],
      "metadata": {
        "id": "mhlNpR8H3Hk1"
      }
    },
    {
      "cell_type": "code",
      "source": [
        "print(1, 2, 3)\n",
        "print('Hello', 'Python')"
      ],
      "metadata": {
        "colab": {
          "base_uri": "https://localhost:8080/"
        },
        "id": "dhBmdCq63VV_",
        "outputId": "a96fa1dc-60a9-4581-fd29-d84ca9e524a2"
      },
      "execution_count": null,
      "outputs": [
        {
          "output_type": "stream",
          "name": "stdout",
          "text": [
            "1 2 3\n",
            "Hello Python\n"
          ]
        }
      ]
    },
    {
      "cell_type": "markdown",
      "source": [
        "* print에 변수나 값을 콤마로 구분해서 넣으면 각 값이 공백으로 띄워져서 한 줄로 출력 (값을 여러 개 출력할 때 print 함수를 여러 번 쓰지 않아도 됨)\n",
        "\n"
      ],
      "metadata": {
        "id": "fLJ4K5VB3PZP"
      }
    },
    {
      "cell_type": "markdown",
      "source": [
        "### sep로 값 사이에 문자 넣기\n",
        "\n",
        "* 값 사이에 공백이 아닌 다른 문자를 넣고 싶을  때는 print의 sep에 문자 또는 문자열을 지정(sep는 구분자라는 뜻의 **sep**arator에서 따옴)\n",
        "```\n",
        "print(값1, 값2, sep='문자 또는 문자열')\n",
        "print(변수1, 변수2, sep='문자 또는 문자열')\n",
        "```"
      ],
      "metadata": {
        "id": "44wKOc9g3Y4J"
      }
    },
    {
      "cell_type": "code",
      "source": [
        "print(1, 2, 3, sep=', ')    # sep에 콤마와 공백을 지정\n",
        "print(4, 5, 6, sep=',')    # sep에 콤마만 지정\n",
        "print('Hello', 'Python', sep='')    # sep에 빈 문자열을 지정\n",
        "print(1920, 1080, sep='x')    # sep에 x를 지정"
      ],
      "metadata": {
        "colab": {
          "base_uri": "https://localhost:8080/"
        },
        "id": "FACVZMOm3jmq",
        "outputId": "0f8a9c03-2e74-4764-9d16-532f32e1d28f"
      },
      "execution_count": null,
      "outputs": [
        {
          "output_type": "stream",
          "name": "stdout",
          "text": [
            "1, 2, 3\n",
            "4,5,6\n",
            "HelloPython\n",
            "1920x1080\n"
          ]
        }
      ]
    },
    {
      "cell_type": "markdown",
      "source": [],
      "metadata": {
        "id": "TNAcXidc08-T"
      }
    },
    {
      "cell_type": "markdown",
      "source": [
        "* sep=', '처럼 콤마와 공백을 넣어주면 1, 2, 3과 같은 형태로 출력 (공백 없이 콤마만 지정해도 됨)\n",
        "* 또한, sep=''처럼 빈 문자열을 지정하면 각각의 값은 서로 붙어서 출력됨\n",
        "* 특히 sep에는 'x'와 같은 일반적인 문자도 넣을 수 있음"
      ],
      "metadata": {
        "id": "bLyHw0uz3qe5"
      }
    },
    {
      "cell_type": "markdown",
      "source": [
        "## 줄바꿈 활용하기"
      ],
      "metadata": {
        "id": "gVfqD9Vc38mR"
      }
    },
    {
      "cell_type": "code",
      "source": [
        "# print에 값을 여러 개 지정하면 한 줄에 모든 값이 출력\n",
        "print(1, 2, 3)"
      ],
      "metadata": {
        "colab": {
          "base_uri": "https://localhost:8080/"
        },
        "id": "Exxei3zy3_ua",
        "outputId": "8049d753-0d77-4121-9c8b-167b7d075183"
      },
      "execution_count": null,
      "outputs": [
        {
          "output_type": "stream",
          "name": "stdout",
          "text": [
            "1 2 3\n"
          ]
        }
      ]
    },
    {
      "cell_type": "code",
      "source": [
        "# print의 sep에 개행 문자(\\n)라는 특별한 문자를 지정하면 값을 한 줄에 하나씩 출력\n",
        "print(1, 2, 3, sep='\\n')"
      ],
      "metadata": {
        "colab": {
          "base_uri": "https://localhost:8080/"
        },
        "id": "4T_7hdt54CMY",
        "outputId": "203fac05-3515-411b-fe55-09d8c8d2ef1b"
      },
      "execution_count": null,
      "outputs": [
        {
          "output_type": "stream",
          "name": "stdout",
          "text": [
            "1\n",
            "2\n",
            "3\n"
          ]
        }
      ]
    },
    {
      "cell_type": "code",
      "source": [
        "print('1\\n2\\n3')    # 문자열 안에 \\n을 사용하여 줄바꿈"
      ],
      "metadata": {
        "colab": {
          "base_uri": "https://localhost:8080/"
        },
        "id": "URZtIKpm4Mel",
        "outputId": "dc89df29-cb37-43c7-9a04-a5c7efa0cb08"
      },
      "execution_count": null,
      "outputs": [
        {
          "output_type": "stream",
          "name": "stdout",
          "text": [
            "1\n",
            "2\n",
            "3\n"
          ]
        }
      ]
    },
    {
      "cell_type": "markdown",
      "source": [
        "### end 사용하기\n",
        "* print는 기본적으로 출력하는 값 끝에 \\n을 붙임. 그래서 print를 여러 번 사용하면 값이 여러 줄에 출력"
      ],
      "metadata": {
        "id": "BpFMzVUJ4PbM"
      }
    },
    {
      "cell_type": "code",
      "source": [
        "print(1)\n",
        "print(2)\n",
        "print(3)"
      ],
      "metadata": {
        "colab": {
          "base_uri": "https://localhost:8080/"
        },
        "id": "xPUmW6Et4USU",
        "outputId": "76965007-d0f9-48a9-fafd-6dc2f8f82f71"
      },
      "execution_count": null,
      "outputs": [
        {
          "output_type": "stream",
          "name": "stdout",
          "text": [
            "1\n",
            "2\n",
            "3\n"
          ]
        }
      ]
    },
    {
      "cell_type": "markdown",
      "source": [
        "* print를 여러 번 사용해서 print(1, 2, 3)처럼 한 줄에 여러 개의 값을 출력하려면 print의 end에 빈 문자열을 지정해주면 됨\n",
        "\n",
        "```\n",
        "print(값, end='문자 또는 문자열')\n",
        "print(변수, end='문자 또는 문자열')\n",
        "```"
      ],
      "metadata": {
        "id": "-1CmZrUu4Yku"
      }
    },
    {
      "cell_type": "code",
      "source": [
        "print(1, end='')    # end에 빈 문자열을 지정하면 다음 번 출력이 바로 뒤에 오게 됨\n",
        "print(2, end='')\n",
        "print(3)"
      ],
      "metadata": {
        "colab": {
          "base_uri": "https://localhost:8080/"
        },
        "id": "91kiLwBp4VmM",
        "outputId": "f5a3b533-6ea5-4533-e916-d75be52e889c"
      },
      "execution_count": null,
      "outputs": [
        {
          "output_type": "stream",
          "name": "stdout",
          "text": [
            "123\n"
          ]
        }
      ]
    },
    {
      "cell_type": "markdown",
      "source": [
        "* end는 현재 print가 끝난 뒤 그 다음에 오는 print 함수에 영향을 줌"
      ],
      "metadata": {
        "id": "lIQiYVlv4h8I"
      }
    },
    {
      "cell_type": "code",
      "source": [
        "print(1, end=' ')    # end에 공백 한 칸 지정\n",
        "print(2, end=' ')\n",
        "print(3)"
      ],
      "metadata": {
        "colab": {
          "base_uri": "https://localhost:8080/"
        },
        "id": "ri-Q6cZz4feI",
        "outputId": "644d8d33-9ff9-408a-f5fd-629b698220f4"
      },
      "execution_count": null,
      "outputs": [
        {
          "output_type": "stream",
          "name": "stdout",
          "text": [
            "1 2 3\n"
          ]
        }
      ]
    },
    {
      "cell_type": "markdown",
      "source": [
        "## 숫자를 콤마로 구분해서 표현하기"
      ],
      "metadata": {
        "id": "8YiLwo_I4zd-"
      }
    },
    {
      "cell_type": "code",
      "source": [
        "10_000_000 # 3자리마다 _(밑줄 문자)를 사용 "
      ],
      "metadata": {
        "colab": {
          "base_uri": "https://localhost:8080/"
        },
        "id": "oVIE1tUq43rd",
        "outputId": "ff1f69dc-485a-4ae3-9cf3-0d871fdc0779"
      },
      "execution_count": null,
      "outputs": [
        {
          "output_type": "execute_result",
          "data": {
            "text/plain": [
              "10000000"
            ]
          },
          "metadata": {},
          "execution_count": 38
        }
      ]
    },
    {
      "cell_type": "markdown",
      "source": [
        "## 직전에 실행된 결과를 다시 가져오기\n",
        "* 코드를 실행했을 때 결과는 \\_(밑줄 문자) 변수에 저장됨\n",
        "* 따라서 \\_를 사용하면 직전에 실행된 결과를 다시 가져올 수 있음"
      ],
      "metadata": {
        "id": "8YjokdFf5ANC"
      }
    },
    {
      "cell_type": "code",
      "source": [
        "1 + 1"
      ],
      "metadata": {
        "colab": {
          "base_uri": "https://localhost:8080/"
        },
        "id": "n653omQW49fA",
        "outputId": "3bb75667-afa8-4826-bd6c-3ceaa38a3bfb"
      },
      "execution_count": null,
      "outputs": [
        {
          "output_type": "execute_result",
          "data": {
            "text/plain": [
              "2"
            ]
          },
          "metadata": {},
          "execution_count": 39
        }
      ]
    },
    {
      "cell_type": "code",
      "source": [
        "_"
      ],
      "metadata": {
        "colab": {
          "base_uri": "https://localhost:8080/"
        },
        "id": "2IB4C65y5EvR",
        "outputId": "e228aaec-1f4b-4669-e09a-3935116a87c8"
      },
      "execution_count": null,
      "outputs": [
        {
          "output_type": "execute_result",
          "data": {
            "text/plain": [
              "2"
            ]
          },
          "metadata": {},
          "execution_count": 40
        }
      ]
    }
  ]
}